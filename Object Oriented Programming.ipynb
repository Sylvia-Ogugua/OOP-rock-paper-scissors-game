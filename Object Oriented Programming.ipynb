{
 "cells": [
  {
   "cell_type": "markdown",
   "id": "536a8ca9",
   "metadata": {},
   "source": [
    "# Object Oriented Programming"
   ]
  },
  {
   "cell_type": "markdown",
   "id": "7c138be8",
   "metadata": {},
   "source": [
    "## **1.** Generate a student class called `Student`\n",
    "- Add attributes `name`, `stu_ID`, `major`, `school` in the student class\n",
    "- Add a class object attribute `university` and set the value to `SMU`\n",
    "- Add a method `update_stu_ID`, which can update the student's ID\n",
    "- Add a method `update_major`, which can update the student's major\n",
    "- Add a method `print_info`, which can print information with the following format:\n",
    "        \n",
    "        'Student name is John, the id is 123456, major is business, from sobey school in SMU'\n",
    "                -- You should use the class object attribute to get \"SMU\"\n",
    "        \n",
    "- Create a student object `stu1` with the following information ('John', 123456, 'business', 'sobey')\n",
    "- Print the student's basic information using the `print_info` method\n",
    "- Update `stu1`'s major from `business` to `computer science` \n",
    "- Update `stu1`'s student ID from `123456` to `111111` \n",
    "- Print the student's basic information using the `print_info` method after the modification"
   ]
  },
  {
   "cell_type": "code",
   "execution_count": 26,
   "id": "768b31e0",
   "metadata": {},
   "outputs": [],
   "source": [
    "import math"
   ]
  },
  {
   "cell_type": "code",
   "execution_count": 2,
   "id": "108d2475",
   "metadata": {},
   "outputs": [],
   "source": [
    "# write your code here\n",
    "class Student:\n",
    "    university = 'SMU'\n",
    "    def __init__(student, name, stu_ID, major, school):\n",
    "        student.name = name\n",
    "        student.stu_ID = stu_ID\n",
    "        student.major = major\n",
    "        student.school = school\n",
    "        \n",
    "    def update_stu_ID(student, new_ID):\n",
    "        student.stu_ID = new_ID\n",
    "        \n",
    "    def update_major(student, new_major):\n",
    "        student.major = new_major\n",
    "        \n",
    "    def print_info(student):\n",
    "        print(f'Student name is {student.name}, the id is {student.stu_ID}, major is {student.major}, from {student.school} school in {student.university}')"
   ]
  },
  {
   "cell_type": "code",
   "execution_count": 3,
   "id": "f5ccffc7",
   "metadata": {},
   "outputs": [],
   "source": [
    "stu1 = Student('John', 123456, 'business', 'sobey')"
   ]
  },
  {
   "cell_type": "code",
   "execution_count": 4,
   "id": "deb8d51e",
   "metadata": {},
   "outputs": [
    {
     "name": "stdout",
     "output_type": "stream",
     "text": [
      "Student name is John, the id is 123456, major is business, from sobey school in SMU\n"
     ]
    }
   ],
   "source": [
    "stu1.print_info()"
   ]
  },
  {
   "cell_type": "code",
   "execution_count": 5,
   "id": "48373540",
   "metadata": {},
   "outputs": [],
   "source": [
    "stu1.update_major('computer science')"
   ]
  },
  {
   "cell_type": "code",
   "execution_count": 6,
   "id": "18d0809c",
   "metadata": {},
   "outputs": [],
   "source": [
    "stu1.update_stu_ID(111111)"
   ]
  },
  {
   "cell_type": "code",
   "execution_count": 7,
   "id": "fcad251e",
   "metadata": {},
   "outputs": [
    {
     "name": "stdout",
     "output_type": "stream",
     "text": [
      "Student name is John, the id is 111111, major is computer science, from sobey school in SMU\n"
     ]
    }
   ],
   "source": [
    "stu1.print_info()"
   ]
  },
  {
   "cell_type": "markdown",
   "id": "329b5ec6",
   "metadata": {},
   "source": [
    "## **2.** Generate a point class called `Point` (we just consider this is for any 2-d point with a `x` coordinate and a `y` coordinate)\n",
    "- Add attributes `x` and `y` (both in integers) in the point class\n",
    "- Add a method called `print_info()` to print the `x` and `y` coordinate of this point object with the following format\n",
    "        \n",
    "        for example: The x coordinate is 5, the y coordinate is 6\n",
    "- Add a method `dist_origin`, which return the distance between this point and the origin `(0, 0)`. \n",
    "       \n",
    "       (You may consider import the math package using `import math`, and use `math.sqrt` to calculate the square root.)\n",
    "       \n",
    "- Add another method `dist_another_point`, which takes another Point object as input and calculate their distance using the function $\\sqrt{(x_1 - x_2)^2 + (y_1 - y_2)^2}$. \n",
    "- Test your methods with the following different instance examples to see if the calculated distances are correct or not. \n",
    "\n",
    "        p1 (1, 1): print the x coordinate and y coordinate of p1\n",
    "                   calculate the distance between p1 and the origin\n",
    "                   \n",
    "        p2 (2, 1): calculate the distance between p2 and the origin\n",
    "                   calculate the distance between p1 and p2\n",
    "                   \n",
    "        p3 (2, 2): calculate the distance between p3 and the origin\n",
    "                   calculate the distance between p1 and p3\n"
   ]
  },
  {
   "cell_type": "code",
   "execution_count": 8,
   "id": "db27c592",
   "metadata": {},
   "outputs": [],
   "source": [
    "# write your code here\n",
    "class Point:\n",
    "    def __init__(point, x, y):\n",
    "        point.x = int(x)\n",
    "        point.y = int(y)\n",
    "        \n",
    "    def print_info(point):\n",
    "        print(f'The x coordinate is {point.x}, the y coordinate is {point.y}')  \n",
    "        \n",
    "    def dist_origin(point):\n",
    "        return math.sqrt(((point.x - 0)**2) + ((point.y - 0)**2))\n",
    "    \n",
    "    def dist_another_point(point, new_point):\n",
    "        point.new_point = new_point\n",
    "        return math.sqrt(((point.x - new_point.x)**2) + ((point.y - new_point.y)**2))"
   ]
  },
  {
   "cell_type": "code",
   "execution_count": 11,
   "id": "65b4cc0c",
   "metadata": {},
   "outputs": [
    {
     "name": "stdout",
     "output_type": "stream",
     "text": [
      "Coordinates of p1: \n",
      "The x coordinate is 1, the y coordinate is 1\n",
      "\n",
      "The distance between p1 and the origin is: 1.4142135623730951\n",
      "\n",
      "The distance between p2 and the origin is: 2.23606797749979\n",
      "\n",
      "The distance between p1 and p2 is: 1.0\n",
      "\n",
      "The distance between p3 and the origin is: 2.8284271247461903\n",
      "\n",
      "The distance between p1 and p3 is: 1.4142135623730951\n"
     ]
    }
   ],
   "source": [
    "p1 = Point(1, 1)\n",
    "p2 = Point(2, 1)\n",
    "p3 = Point(2, 2)\n",
    "\n",
    "print(f'Coordinates of p1: ')\n",
    "p1.print_info()\n",
    "print()\n",
    "print(f'The distance between p1 and the origin is: {p1.dist_origin()}')\n",
    "print()\n",
    "print(f'The distance between p2 and the origin is: {p2.dist_origin()}')\n",
    "print()\n",
    "print(f'The distance between p1 and p2 is: {p1.dist_another_point(p2)}')\n",
    "print()\n",
    "print(f'The distance between p3 and the origin is: {p3.dist_origin()}')\n",
    "print()\n",
    "print(f'The distance between p1 and p3 is: {p1.dist_another_point(p3)}')"
   ]
  },
  {
   "cell_type": "markdown",
   "id": "16ace91a",
   "metadata": {},
   "source": [
    "## **3.** Generate a bank account class called `Bank_account`\n",
    " \n",
    "- Generate a bank account class with the attributes: `name`, `phone_number`, and `balance` (float). Set the defualt balance to 0.0.\n",
    "\n",
    "- Add a function called `print_basic` to print the name and the phone number of the account with the following format.\n",
    "\n",
    "        The account name is John, phone number is 123455\n",
    "\n",
    "- Add a function called `deposit`, which take a positive float number as input, and update the balance accordingly. Print the new balance after the deposit with the following format.\n",
    "\n",
    "        After the deposit, the balance of user John is 100 dollar\n",
    "\n",
    "- Add a function called `withdraw`, which take a positive float number as input, and update the balance accordingly. Make sure the money withdrawled cannt exceed the available balance (Print an alert if the money to be withdrawled exceed the current balance). Print the new balance after the withdraw with the following format.\n",
    "\n",
    "        After the withdraw, the balance of user John is 100 dollar\n",
    "\n",
    "- Test your methods with the following information to see if the balance is correct or not. Show all your testing results.\n",
    "        \n",
    "            generate a bank account with name = your name, phone_number = 123456\n",
    "            deposit 100 dollars into the account\n",
    "            withdraw 50 dollars\n",
    "            withdraw 60 dollars\n",
    "            \n",
    "            generate another account with name = Elon Musk, phone_number = 123456, balance = 100\n"
   ]
  },
  {
   "cell_type": "code",
   "execution_count": 29,
   "id": "f90e5196",
   "metadata": {},
   "outputs": [],
   "source": [
    "# write your code here\n",
    "class Bank_account:\n",
    "    def __init__(bank, name, phone_number, balance = 0.0):\n",
    "        bank.name = name\n",
    "        bank.phone_number = phone_number\n",
    "        bank.balance = balance\n",
    "        \n",
    "    def print_basic():\n",
    "        print(f'The account name is {bank.name}, phone number is {bank.phone_number}')\n",
    "              \n",
    "    def deposit(bank, deposit):\n",
    "        bank.deposit_amount = float(deposit)\n",
    "        if bank.deposit_amount <= 0:\n",
    "            print(f'Error! Please make a positive deposit.')\n",
    "        else:\n",
    "            bank.balance = bank.deposit_amount + bank.balance\n",
    "            print(f'After the deposit, the balance of user {bank.name} is {bank.balance} dollars')\n",
    "            \n",
    "    def withdraw(bank, amount):\n",
    "        bank.withdrawal = float(amount)\n",
    "        if bank.withdrawal <= 0:\n",
    "            print(f'You cannot make this withdrawal!!')\n",
    "        elif bank.withdrawal > bank.balance:\n",
    "            print(f'Insufficient funds!! your balance is {bank.balance}!')\n",
    "        else:\n",
    "            bank.balance = bank.balance - bank.withdrawal\n",
    "            print(f'After the withdrawal, the balance of user {bank.name} is {bank.balance} dollars')"
   ]
  },
  {
   "cell_type": "code",
   "execution_count": 30,
   "id": "9ad3aab6",
   "metadata": {},
   "outputs": [],
   "source": [
    "account_1 = Bank_account('Chiamaka', 123456)"
   ]
  },
  {
   "cell_type": "code",
   "execution_count": 31,
   "id": "ec0798cb",
   "metadata": {},
   "outputs": [
    {
     "name": "stdout",
     "output_type": "stream",
     "text": [
      "After the deposit, the balance of user Chiamaka is 100.0 dollars\n"
     ]
    }
   ],
   "source": [
    "account_1.deposit(100)"
   ]
  },
  {
   "cell_type": "code",
   "execution_count": 32,
   "id": "e6124ed7",
   "metadata": {},
   "outputs": [
    {
     "name": "stdout",
     "output_type": "stream",
     "text": [
      "After the withdrawal, the balance of user Chiamaka is 50.0 dollars\n"
     ]
    }
   ],
   "source": [
    "account_1.withdraw(50)"
   ]
  },
  {
   "cell_type": "code",
   "execution_count": 33,
   "id": "70d38d6e",
   "metadata": {},
   "outputs": [
    {
     "name": "stdout",
     "output_type": "stream",
     "text": [
      "Insufficient funds!! your balance is 50.0!\n"
     ]
    }
   ],
   "source": [
    "account_1.withdraw(60)"
   ]
  },
  {
   "cell_type": "code",
   "execution_count": 34,
   "id": "2289ff0b",
   "metadata": {},
   "outputs": [],
   "source": [
    "account_2 = Bank_account('Elon Musk', 123456, 100)"
   ]
  },
  {
   "cell_type": "code",
   "execution_count": 35,
   "id": "013bc086",
   "metadata": {},
   "outputs": [
    {
     "data": {
      "text/plain": [
       "'Elon Musk'"
      ]
     },
     "execution_count": 35,
     "metadata": {},
     "output_type": "execute_result"
    }
   ],
   "source": [
    "account_2.name"
   ]
  },
  {
   "cell_type": "code",
   "execution_count": 36,
   "id": "915f700b",
   "metadata": {},
   "outputs": [
    {
     "name": "stdout",
     "output_type": "stream",
     "text": [
      "After the deposit, the balance of user Elon Musk is 200.0 dollars\n"
     ]
    }
   ],
   "source": [
    "account_2.deposit(100)"
   ]
  },
  {
   "cell_type": "code",
   "execution_count": 37,
   "id": "6d5be9e8",
   "metadata": {},
   "outputs": [
    {
     "name": "stdout",
     "output_type": "stream",
     "text": [
      "Insufficient funds!! your balance is 200.0!\n"
     ]
    }
   ],
   "source": [
    "account_2.withdraw(400)"
   ]
  },
  {
   "cell_type": "code",
   "execution_count": 38,
   "id": "5be61e86",
   "metadata": {},
   "outputs": [
    {
     "data": {
      "text/plain": [
       "200.0"
      ]
     },
     "execution_count": 38,
     "metadata": {},
     "output_type": "execute_result"
    }
   ],
   "source": [
    "account_2.balance"
   ]
  },
  {
   "cell_type": "code",
   "execution_count": 39,
   "id": "8bb7f596",
   "metadata": {},
   "outputs": [
    {
     "name": "stdout",
     "output_type": "stream",
     "text": [
      "After the deposit, the balance of user Elon Musk is 920.58 dollars\n"
     ]
    }
   ],
   "source": [
    "account_2.deposit(720.58)"
   ]
  },
  {
   "cell_type": "code",
   "execution_count": 40,
   "id": "6ce75697",
   "metadata": {},
   "outputs": [
    {
     "name": "stdout",
     "output_type": "stream",
     "text": [
      "You cannot make this withdrawal!!\n"
     ]
    }
   ],
   "source": [
    "account_2.withdraw(-24)"
   ]
  },
  {
   "cell_type": "code",
   "execution_count": 41,
   "id": "d6a4219d",
   "metadata": {},
   "outputs": [
    {
     "name": "stdout",
     "output_type": "stream",
     "text": [
      "Error! Please make a positive deposit.\n"
     ]
    }
   ],
   "source": [
    "account_2.deposit(-87)"
   ]
  }
 ],
 "metadata": {
  "kernelspec": {
   "display_name": "Python 3 (ipykernel)",
   "language": "python",
   "name": "python3"
  },
  "language_info": {
   "codemirror_mode": {
    "name": "ipython",
    "version": 3
   },
   "file_extension": ".py",
   "mimetype": "text/x-python",
   "name": "python",
   "nbconvert_exporter": "python",
   "pygments_lexer": "ipython3",
   "version": "3.11.4"
  }
 },
 "nbformat": 4,
 "nbformat_minor": 5
}
