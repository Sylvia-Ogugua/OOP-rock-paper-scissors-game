{
 "cells": [
  {
   "cell_type": "markdown",
   "id": "8a84c704",
   "metadata": {},
   "source": [
    "### Error and exception handling"
   ]
  },
  {
   "cell_type": "markdown",
   "id": "705df78e",
   "metadata": {},
   "source": [
    "**1.** Use `try` and `exception` to handle the following codes. You do not need to specify which type exception you want to handle. Print suitable information in the `exception` block."
   ]
  },
  {
   "cell_type": "code",
   "execution_count": 1,
   "id": "9863883a",
   "metadata": {},
   "outputs": [
    {
     "name": "stdout",
     "output_type": "stream",
     "text": [
      "1\n",
      "8\n"
     ]
    },
    {
     "ename": "TypeError",
     "evalue": "unsupported operand type(s) for ** or pow(): 'str' and 'int'",
     "output_type": "error",
     "traceback": [
      "\u001b[0;31m---------------------------------------------------------------------------\u001b[0m",
      "\u001b[0;31mTypeError\u001b[0m                                 Traceback (most recent call last)",
      "Cell \u001b[0;32mIn[1], line 3\u001b[0m\n\u001b[1;32m      1\u001b[0m my_num_list \u001b[38;5;241m=\u001b[39m [\u001b[38;5;241m1\u001b[39m, \u001b[38;5;241m2\u001b[39m, \u001b[38;5;124m'\u001b[39m\u001b[38;5;124m3\u001b[39m\u001b[38;5;124m'\u001b[39m]\n\u001b[1;32m      2\u001b[0m \u001b[38;5;28;01mfor\u001b[39;00m item \u001b[38;5;129;01min\u001b[39;00m my_num_list:\n\u001b[0;32m----> 3\u001b[0m     \u001b[38;5;28mprint\u001b[39m (item\u001b[38;5;241m*\u001b[39m\u001b[38;5;241m*\u001b[39m\u001b[38;5;241m3\u001b[39m)\n",
      "\u001b[0;31mTypeError\u001b[0m: unsupported operand type(s) for ** or pow(): 'str' and 'int'"
     ]
    }
   ],
   "source": [
    "my_num_list = [1, 2, '3']\n",
    "for item in my_num_list:\n",
    "    print (item**3)"
   ]
  },
  {
   "cell_type": "code",
   "execution_count": 2,
   "id": "fe6eddf2",
   "metadata": {},
   "outputs": [
    {
     "name": "stdout",
     "output_type": "stream",
     "text": [
      "1\n",
      "8\n",
      "Exception occured! Check code again\n"
     ]
    }
   ],
   "source": [
    "# write you code here\n",
    "try:\n",
    "    my_num_list = [1, 2, '3']\n",
    "    for item in my_num_list:\n",
    "        print (item**3)\n",
    "except:\n",
    "    print('Exception occured! Check code again')"
   ]
  },
  {
   "cell_type": "markdown",
   "id": "b6476052",
   "metadata": {},
   "source": [
    "**2.** Use `try`, `except`, and `finally` to handle the `ZeroDivisionError` error (division by zero) in the following code. Print suitable information in the `except` block to show the error; print `print anyway` in the finally block."
   ]
  },
  {
   "cell_type": "code",
   "execution_count": 3,
   "id": "9a7f8516",
   "metadata": {},
   "outputs": [
    {
     "ename": "ZeroDivisionError",
     "evalue": "division by zero",
     "output_type": "error",
     "traceback": [
      "\u001b[0;31m---------------------------------------------------------------------------\u001b[0m",
      "\u001b[0;31mZeroDivisionError\u001b[0m                         Traceback (most recent call last)",
      "Cell \u001b[0;32mIn[3], line 3\u001b[0m\n\u001b[1;32m      1\u001b[0m a \u001b[38;5;241m=\u001b[39m \u001b[38;5;241m10\u001b[39m\n\u001b[1;32m      2\u001b[0m b \u001b[38;5;241m=\u001b[39m \u001b[38;5;241m0\u001b[39m\n\u001b[0;32m----> 3\u001b[0m a\u001b[38;5;241m/\u001b[39mb\n",
      "\u001b[0;31mZeroDivisionError\u001b[0m: division by zero"
     ]
    }
   ],
   "source": [
    "a = 10\n",
    "b = 0\n",
    "a/b"
   ]
  },
  {
   "cell_type": "code",
   "execution_count": 4,
   "id": "5f4083c9",
   "metadata": {},
   "outputs": [
    {
     "name": "stdout",
     "output_type": "stream",
     "text": [
      "You cannot divide by Zero!\n",
      "Print anyway!\n"
     ]
    }
   ],
   "source": [
    "try:\n",
    "    a = 10\n",
    "    b = 0\n",
    "    a/b\n",
    "    \n",
    "except ZeroDivisionError:\n",
    "    print('You cannot divide by Zero!')\n",
    "    \n",
    "finally:\n",
    "    print('Print anyway!')"
   ]
  },
  {
   "cell_type": "markdown",
   "id": "db2057b4",
   "metadata": {},
   "source": [
    "**3.** Use `try`, `except`, and `finally` to handle the following error. You need first to check what type of exception exists in the function `add_two_num(a, b)`. And then, use suitable exception type in your `except`. Print suitable information in both the `except` block and the `finally` block.\n",
    "\n",
    "**Hint**: \n",
    "    \n",
    "    First run the codes to check what is the exception type.\n",
    "    \n",
    "    You need to insert your `try`, `except`, and `finally` blocks into the function `add_two_num(a, b)`. "
   ]
  },
  {
   "cell_type": "code",
   "execution_count": 5,
   "id": "59f478d6",
   "metadata": {},
   "outputs": [
    {
     "ename": "TypeError",
     "evalue": "unsupported operand type(s) for +: 'int' and 'str'",
     "output_type": "error",
     "traceback": [
      "\u001b[0;31m---------------------------------------------------------------------------\u001b[0m",
      "\u001b[0;31mTypeError\u001b[0m                                 Traceback (most recent call last)",
      "Cell \u001b[0;32mIn[5], line 5\u001b[0m\n\u001b[1;32m      2\u001b[0m     c \u001b[38;5;241m=\u001b[39m a \u001b[38;5;241m+\u001b[39m b\n\u001b[1;32m      3\u001b[0m     \u001b[38;5;28;01mreturn\u001b[39;00m c\n\u001b[0;32m----> 5\u001b[0m add_two_num(\u001b[38;5;241m1\u001b[39m, \u001b[38;5;124m'\u001b[39m\u001b[38;5;124m2\u001b[39m\u001b[38;5;124m'\u001b[39m)\n",
      "Cell \u001b[0;32mIn[5], line 2\u001b[0m, in \u001b[0;36madd_two_num\u001b[0;34m(a, b)\u001b[0m\n\u001b[1;32m      1\u001b[0m \u001b[38;5;28;01mdef\u001b[39;00m \u001b[38;5;21madd_two_num\u001b[39m(a, b):\n\u001b[0;32m----> 2\u001b[0m     c \u001b[38;5;241m=\u001b[39m a \u001b[38;5;241m+\u001b[39m b\n\u001b[1;32m      3\u001b[0m     \u001b[38;5;28;01mreturn\u001b[39;00m c\n",
      "\u001b[0;31mTypeError\u001b[0m: unsupported operand type(s) for +: 'int' and 'str'"
     ]
    }
   ],
   "source": [
    "def add_two_num(a, b):\n",
    "    c = a + b\n",
    "    return c\n",
    "\n",
    "add_two_num(1, '2')"
   ]
  },
  {
   "cell_type": "code",
   "execution_count": 6,
   "id": "9141dd54",
   "metadata": {},
   "outputs": [
    {
     "name": "stdout",
     "output_type": "stream",
     "text": [
      "A string and integar cannot be added! \n",
      "Code has finished running!\n"
     ]
    }
   ],
   "source": [
    "try:\n",
    "    def add_two_num(a, b):\n",
    "        c = a + b\n",
    "        return c\n",
    "    \n",
    "    add_two_num(1, '2')\n",
    "    \n",
    "except TypeError:\n",
    "    print('A string and integar cannot be added! ')\n",
    "    \n",
    "finally:\n",
    "    print(f'Code has finished running!')"
   ]
  },
  {
   "cell_type": "code",
   "execution_count": 7,
   "id": "a63fdc3a",
   "metadata": {},
   "outputs": [
    {
     "name": "stdout",
     "output_type": "stream",
     "text": [
      "A string and integar cannot be added! \n",
      "Code has finished running!\n"
     ]
    }
   ],
   "source": [
    "def add_two_num(a, b):\n",
    "        c = a + b\n",
    "        return c\n",
    "    \n",
    "try:\n",
    "    add_two_num(1, '2')\n",
    "    \n",
    "except TypeError:\n",
    "    print('A string and integar cannot be added! ')\n",
    "    \n",
    "finally:\n",
    "    print(f'Code has finished running!')"
   ]
  },
  {
   "cell_type": "code",
   "execution_count": 8,
   "id": "9a5ab94b",
   "metadata": {},
   "outputs": [],
   "source": [
    "def add_two_num(a, b):\n",
    "    try:\n",
    "        c = a + b\n",
    "        return c\n",
    "    \n",
    "    except TypeError:\n",
    "        print('A string and integar cannot be added! ')\n",
    "\n",
    "    finally:\n",
    "        print(f'Code has finished running!')"
   ]
  },
  {
   "cell_type": "code",
   "execution_count": 9,
   "id": "176aeef1",
   "metadata": {},
   "outputs": [
    {
     "name": "stdout",
     "output_type": "stream",
     "text": [
      "A string and integar cannot be added! \n",
      "Code has finished running!\n"
     ]
    }
   ],
   "source": [
    "add_two_num(1, '2')"
   ]
  },
  {
   "cell_type": "markdown",
   "id": "2733ce7d",
   "metadata": {},
   "source": [
    "**4.** Write a python function called `check_input()`. In this function, we want to ask the user to input a **positive & even** number that is **larger than 100**. \n",
    "\n",
    "Use `try, raise ValueError, except` to handle the situation. If the user input is not valid, the program should ask keep aking user to input until the input is valid. \n",
    "\n",
    "- Use `input()` to ask user provide a positive integer.\n",
    "- If the input is not a positive integer (e.g., 0 or negative), use `raise ValueError` to print suitable information, \n",
    "        \n",
    "        For example, \"please enter a positive number\"\n",
    "- If the input is smaller than or equal to 100, use `raise ValueError` to print suitable information.\n",
    "    \n",
    "        For example, \"please enter a number that > 100\"\n",
    "- If the input is not an even number, use `raise ValueError` to print suitable information. \n",
    "    \n",
    "        For example, \"please enter an even number\"\n",
    "\n",
    "- Add `return` in the function to avoid endless execution\n",
    "\n",
    "- Use the following inputs to test your results:\n",
    "        \n",
    "        - 0\n",
    "        - 6\n",
    "        - 22\n",
    "        - 23\n",
    "        - 101\n",
    "        - 102"
   ]
  },
  {
   "cell_type": "code",
   "execution_count": 10,
   "id": "63f39063",
   "metadata": {},
   "outputs": [
    {
     "name": "stdout",
     "output_type": "stream",
     "text": [
      "Please enter an even number > 100: 0\n",
      "Please enter a positive number\n",
      "Please enter an even number > 100: 6\n",
      "Please enter a number > 100: \n",
      "Please enter an even number > 100: 22\n",
      "Please enter a number > 100: \n",
      "Please enter an even number > 100: 23\n",
      "Please enter a number > 100: \n",
      "Please enter an even number > 100: 101\n",
      "Please enter a number > 100 that is also even: \n",
      "Please enter an even number > 100: 102\n",
      "Input is accepted!\n"
     ]
    }
   ],
   "source": [
    "# write your codes here\n",
    "def check_input():\n",
    "    x = int(input('Please enter an even number > 100: '))\n",
    "    if x <= 0:\n",
    "        raise ValueError('Please enter a positive number')\n",
    "\n",
    "    elif 0 < x <= 100:\n",
    "        raise ValueError('Please enter a number > 100: ')\n",
    "\n",
    "    elif x > 100 and x % 2 != 0:\n",
    "        raise ValueError('Please enter a number > 100 that is also even: ')\n",
    "\n",
    "    else:\n",
    "        print('Input is accepted!')\n",
    "    return\n",
    "    \n",
    "while True:\n",
    "    try:\n",
    "        check_input()\n",
    "        break\n",
    "\n",
    "    except ValueError as VE:\n",
    "        print(VE)"
   ]
  },
  {
   "cell_type": "code",
   "execution_count": 11,
   "id": "b07b1595",
   "metadata": {},
   "outputs": [],
   "source": [
    "def check_input():\n",
    "    while True:\n",
    "        try:\n",
    "            x = int(input('Please enter an even number > 100: '))\n",
    "            if x <= 0:\n",
    "                raise ValueError('Please enter a positive number')\n",
    "\n",
    "            elif 0 < x <= 100:\n",
    "                raise ValueError('Please enter a number > 100: ')\n",
    "\n",
    "            elif x > 100 and x % 2 != 0:\n",
    "                raise ValueError('Please enter a number > 100 that is also even: ')\n",
    "\n",
    "            else:\n",
    "                print('Input is accepted!')\n",
    "            return\n",
    "\n",
    "        except ValueError as VE:\n",
    "            print(VE)"
   ]
  },
  {
   "cell_type": "code",
   "execution_count": 12,
   "id": "fec7f40e",
   "metadata": {},
   "outputs": [
    {
     "name": "stdout",
     "output_type": "stream",
     "text": [
      "Please enter an even number > 100: 0\n",
      "Please enter a positive number\n",
      "Please enter an even number > 100: 8\n",
      "Please enter a number > 100: \n",
      "Please enter an even number > 100: 26\n",
      "Please enter a number > 100: \n",
      "Please enter an even number > 100: 36\n",
      "Please enter a number > 100: \n",
      "Please enter an even number > 100: 109\n",
      "Please enter a number > 100 that is also even: \n",
      "Please enter an even number > 100: 118\n",
      "Input is accepted!\n"
     ]
    }
   ],
   "source": [
    "check_input()"
   ]
  },
  {
   "cell_type": "markdown",
   "id": "8c562dfc",
   "metadata": {},
   "source": [
    "### List Comprehension, Lambda, Map, Filter, Reduce"
   ]
  },
  {
   "cell_type": "markdown",
   "id": "3515fc53",
   "metadata": {},
   "source": [
    "**5.** Write a Python program to find all the even numbers from the intersection of two given list using `List Comprehension`. \n",
    "\n",
    "- For instance, if the given lists are:\n",
    "    - list 1 = [1, 2, 3, 4, 5]\n",
    "    - list 2 = [2, 3, 4, 6, 8, 10]\n",
    "    - The result will be [2, 4]"
   ]
  },
  {
   "cell_type": "code",
   "execution_count": 13,
   "id": "477333e6",
   "metadata": {},
   "outputs": [],
   "source": [
    "list1 = [1, 2, 3, 4, 5]\n",
    "list2 = [2, 3, 4, 5, 8, 10]"
   ]
  },
  {
   "cell_type": "code",
   "execution_count": 14,
   "id": "f6b49dca",
   "metadata": {},
   "outputs": [],
   "source": [
    "# write your codes here\n",
    "combined_list = [item for item in list1 if item in list2 and item%2 == 0]"
   ]
  },
  {
   "cell_type": "code",
   "execution_count": 15,
   "id": "faa02b5f",
   "metadata": {},
   "outputs": [
    {
     "data": {
      "text/plain": [
       "[2, 4]"
      ]
     },
     "execution_count": 15,
     "metadata": {},
     "output_type": "execute_result"
    }
   ],
   "source": [
    "combined_list"
   ]
  },
  {
   "cell_type": "markdown",
   "id": "2479915b",
   "metadata": {},
   "source": [
    "**6.** Write a Python program to count the number of even and odd numbers in a given list using `Lambda` and `Filter`.\n",
    "\n",
    "If the given list is [1, 2, 3, 4, 5, 6, 7, 8, 9]\n",
    "\n",
    "Number of even = 4, number of odds = 5"
   ]
  },
  {
   "cell_type": "code",
   "execution_count": 16,
   "id": "9df236ec",
   "metadata": {},
   "outputs": [],
   "source": [
    "# write your codes here\n",
    "my_list = [1, 2, 3, 4, 5, 6, 7, 8, 9]\n",
    "odd_num_count = len(list(filter(lambda i: i%2 != 0, my_list)))\n",
    "even_num_count = len(list(filter(lambda i: i%2 == 0, my_list)))"
   ]
  },
  {
   "cell_type": "code",
   "execution_count": 17,
   "id": "095fe1a9",
   "metadata": {},
   "outputs": [
    {
     "data": {
      "text/plain": [
       "5"
      ]
     },
     "execution_count": 17,
     "metadata": {},
     "output_type": "execute_result"
    }
   ],
   "source": [
    "odd_num_count"
   ]
  },
  {
   "cell_type": "code",
   "execution_count": 18,
   "id": "7b2ddcda",
   "metadata": {},
   "outputs": [
    {
     "data": {
      "text/plain": [
       "4"
      ]
     },
     "execution_count": 18,
     "metadata": {},
     "output_type": "execute_result"
    }
   ],
   "source": [
    "even_num_count"
   ]
  },
  {
   "cell_type": "markdown",
   "id": "30aca760",
   "metadata": {},
   "source": [
    "**7.** Write a Python program, for a given string list, return a new list with the length of each item in the string list, using `Map` and `Lambda`.\n",
    "\n",
    "For instance, the input string list is `['apple', 'people', 'cat', 'table', 'computer', 'car']`, the return list will be `[5, 6, 3, 5, 8, 3]`"
   ]
  },
  {
   "cell_type": "code",
   "execution_count": 19,
   "id": "c565828f",
   "metadata": {},
   "outputs": [],
   "source": [
    "# write your codes here\n",
    "my_list = ['apple', 'people', 'cat', 'table', 'computer', 'car']\n",
    "new_list = list(map(lambda x: len(x), my_list))"
   ]
  },
  {
   "cell_type": "code",
   "execution_count": 20,
   "id": "22fc7936",
   "metadata": {},
   "outputs": [
    {
     "data": {
      "text/plain": [
       "[5, 6, 3, 5, 8, 3]"
      ]
     },
     "execution_count": 20,
     "metadata": {},
     "output_type": "execute_result"
    }
   ],
   "source": [
    "new_list"
   ]
  },
  {
   "cell_type": "markdown",
   "id": "a888f72a",
   "metadata": {},
   "source": [
    "**8.** Write a Python program, for a given string list, return a string of elements that contains specific substring. You need to design two solutions. \n",
    "\n",
    "- The first solution uses `Filter` and `Lambda`.\n",
    "- The second solution uses `List Comprehension`\n",
    "\n",
    "For instance, if the given string list is `['abc', 'abd', 'bcd', 'ade', 'adf', 'xcd', 'acdbdf', 'xdfxcd']` and the substring is `ab`, then the result will be `['abc', 'abd']`."
   ]
  },
  {
   "cell_type": "code",
   "execution_count": 21,
   "id": "e976e43d",
   "metadata": {},
   "outputs": [],
   "source": [
    "my_string = ['abc', 'abd', 'bcd', 'ade', 'adf', 'xcd', 'acdbdf', 'xdfxcd']\n",
    "subs = 'ab'"
   ]
  },
  {
   "cell_type": "code",
   "execution_count": 22,
   "id": "9b206bba",
   "metadata": {},
   "outputs": [],
   "source": [
    "# First solution: Use list comprehension\n",
    "substring_list = [i for i in my_string if subs in i]"
   ]
  },
  {
   "cell_type": "code",
   "execution_count": 23,
   "id": "0d35949c",
   "metadata": {},
   "outputs": [
    {
     "data": {
      "text/plain": [
       "['abc', 'abd']"
      ]
     },
     "execution_count": 23,
     "metadata": {},
     "output_type": "execute_result"
    }
   ],
   "source": [
    "substring_list"
   ]
  },
  {
   "cell_type": "code",
   "execution_count": 24,
   "id": "b2c0abb9",
   "metadata": {},
   "outputs": [],
   "source": [
    "# Second solution: Use filter and lambda\n",
    "substring_list_lambda = list(filter(lambda i: subs in i, my_string))"
   ]
  },
  {
   "cell_type": "code",
   "execution_count": 25,
   "id": "70e349a3",
   "metadata": {},
   "outputs": [
    {
     "data": {
      "text/plain": [
       "['abc', 'abd']"
      ]
     },
     "execution_count": 25,
     "metadata": {},
     "output_type": "execute_result"
    }
   ],
   "source": [
    "substring_list_lambda"
   ]
  },
  {
   "cell_type": "markdown",
   "id": "54210d3e",
   "metadata": {},
   "source": [
    "**9.** Write a python function to generate random password and protect the privacy of the generated password.\n",
    "\n",
    "- You may use the packages `import string`, `import random`\n",
    "- Use the following variables `upper, lower, digits, symbols` to get all the possible characters for generating a password\n",
    "- Write a Python function called `password_generate()`:\n",
    "            \n",
    "     - Ask the user the input the length of the password using input() function\n",
    "     - The input lenght should be at least 6, and should be positive integers. Use `try, raise ValueError, except` to handling possible errors and print suitable information as reminder\n",
    "     - The password should contain at least **1 lower char**, **1 upper char**, **1 digit**, and **1 symbol**. You may consider to use `random.choice()` function to randomly select chars. \n",
    "- Write two Python functions to protect the password using reverse method, called `reverse_encryption()` and `reverse_decryption()`.\n",
    "    - `reverse_encryption()` takes the original password as input, and return the reverse string as the ciphertext\n",
    "    - `reverse_decryption()` takes the ciphertext as input, and return the reverse string as the original password (i.e., plaintext). Check to see if the encryption/decryption works correctly.\n",
    "- Write two Python functions to protect the password using Caesar Cipher method, called `caesar_encryption()` and `caesar_decryption()`.\n",
    "    - `aesar_encryption()` takes the original password as input, and return its correponding Caesar cipher string as the ciphertext\n",
    "    - `caesar_decryption()` takes the Caesar ciphertext as input, and return the the original password (i.e., plaintext). Check to see if the encryption/decryption works correctly.\n",
    "    - Caesar encryption: \n",
    "        - $c = E(t, k) = (t + k) ~mod ~l$\n",
    "        - $t = D(c, k) = (c - k) ~mod ~l$\n",
    "        - $t$: the plaintext\n",
    "        - $c$: the ciphertext\n",
    "        - $k$: the key\n",
    "        - $l$: the total lenght for all chars\n",
    "        - $E, D$ are encryption/decrption algorithms\n"
   ]
  },
  {
   "cell_type": "code",
   "execution_count": 1,
   "id": "31a9d475",
   "metadata": {},
   "outputs": [
    {
     "name": "stdout",
     "output_type": "stream",
     "text": [
      "How many characters do you want in your password? 8\n",
      "Your password has 8 characters\n",
      "\n",
      "Your password is: Gj8|`D47\n",
      "\n",
      "The ciphertext is: 74D`|8jG\n",
      "\n",
      "The decrypted password is: Gj8|`D47\n",
      "\n",
      "The caeser encrypted password is: Or6|`L25\n",
      "\n",
      "The caeser decrypted password is: Gj8|`D47\n"
     ]
    }
   ],
   "source": [
    "import string\n",
    "import random\n",
    "\n",
    "upper = string.ascii_uppercase\n",
    "lower = string.ascii_lowercase\n",
    "digits = string.digits\n",
    "symbols = string.punctuation\n",
    "all_chars = upper + lower + digits + symbols\n",
    "\n",
    "def password_generate():\n",
    "    while True:\n",
    "        try:\n",
    "            password_length = int(input('How many characters do you want in your password? '))\n",
    "            if password_length <= 0:\n",
    "                raise ValueError('Please enter a positive number')\n",
    "\n",
    "            elif 0 < password_length < 6:\n",
    "                raise ValueError('Minimum password length is 6 characters: ') \n",
    "\n",
    "            else:\n",
    "                print(f'Your password has {password_length} characters')\n",
    "                random_pw = random.choice(upper)+random.choice(lower)+random.choice(digits)+random.choice(symbols) \n",
    "                random_pw += ''.join(random.choice(all_chars) for i in range(password_length - len(random_pw)))\n",
    "                print(f'')\n",
    "                print(f'Your password is: {random_pw}')\n",
    "                return random_pw\n",
    "                \n",
    "        except ValueError as VE:\n",
    "            print(VE)\n",
    "\n",
    "def reverse_encryption(random_pw):\n",
    "    encrypted_pw = random_pw[::-1]\n",
    "    print(f'')\n",
    "    print(f'The ciphertext is: {encrypted_pw}')\n",
    "    return encrypted_pw\n",
    "\n",
    "def reverse_decryption(encrypted_pw):\n",
    "    decrypted_pw = encrypted_pw[::-1]\n",
    "    print(f'')\n",
    "    print(f'The decrypted password is: {decrypted_pw}')\n",
    "    return decrypted_pw\n",
    "\n",
    "cae_key = 8\n",
    "def caesar_encryption(random_pw, cae_key):\n",
    "    l = len(upper)\n",
    "    num = len(digits)\n",
    "    caesar_encrypt_pw = ''\n",
    "    for item in random_pw:\n",
    "        if item.isupper():\n",
    "            item_index = ord(item) - ord('A')\n",
    "            new_index = (item_index + cae_key) % l\n",
    "            new_unicode = new_index + ord('A')\n",
    "            new_pw = chr(new_unicode)\n",
    "            caesar_encrypt_pw += new_pw\n",
    "            \n",
    "        elif item.islower():\n",
    "            item_index = ord(item) - ord('a')\n",
    "            new_index = (item_index + cae_key) % l\n",
    "            new_unicode = new_index + ord('a')\n",
    "            new_pw = chr(new_unicode)\n",
    "            caesar_encrypt_pw += new_pw\n",
    "            \n",
    "        elif item.isdigit():\n",
    "            new_pw = (int(item) + cae_key) % num\n",
    "            caesar_encrypt_pw += str(new_pw)\n",
    "        \n",
    "        else:\n",
    "            caesar_encrypt_pw += item\n",
    "            \n",
    "    print(f'')\n",
    "    print(f'The caeser encrypted password is: {caesar_encrypt_pw}')        \n",
    "    return caesar_encrypt_pw\n",
    "\n",
    "def caesar_decryption(caesar_encrypt_pw, cae_key):\n",
    "    l = len(upper)\n",
    "    num = len(digits)\n",
    "    caesar_decrypt_pw = ''\n",
    "    for item in caesar_encrypt_pw:\n",
    "        if item.isupper():\n",
    "            item_index = ord(item) - ord('A')\n",
    "            new_index = (item_index - cae_key) % l\n",
    "            new_unicode = new_index + ord('A')\n",
    "            new_pw = chr(new_unicode)\n",
    "            caesar_decrypt_pw += new_pw\n",
    "            \n",
    "        elif item.islower():\n",
    "            item_index = ord(item) - ord('a')\n",
    "            new_index = (item_index - cae_key) % l\n",
    "            new_unicode = new_index + ord('a')\n",
    "            new_pw = chr(new_unicode)\n",
    "            caesar_decrypt_pw += new_pw\n",
    "            \n",
    "        elif item.isdigit():\n",
    "            new_pw = (int(item) - cae_key) % num\n",
    "            caesar_decrypt_pw += str(new_pw)\n",
    "        \n",
    "        else:\n",
    "            caesar_decrypt_pw += item\n",
    "            \n",
    "    print(f'')\n",
    "    print(f'The caeser decrypted password is: {caesar_decrypt_pw}')         \n",
    "    return caesar_decrypt_pw\n",
    "\n",
    "random_pw = password_generate()\n",
    "encrypted_pw = reverse_encryption(random_pw)\n",
    "decrypted_pw = reverse_decryption(encrypted_pw)\n",
    "caesar_encrypt_pw = caesar_encryption(random_pw, cae_key)\n",
    "caesar_decrypt_pw = caesar_decryption(caesar_encrypt_pw, cae_key)"
   ]
  },
  {
   "cell_type": "markdown",
   "id": "7fa9ae4e",
   "metadata": {},
   "source": [
    "### OOP exercise: the Rock, Paper, Sissor Game"
   ]
  },
  {
   "cell_type": "markdown",
   "id": "fbbaac72",
   "metadata": {},
   "source": [
    "**10**. Write a python program to implement the `Rock, Paper, Scissor` game.\n",
    "\n",
    "- Write a python class called `Player`\n",
    "- Add one attribute called `choice` in the `__init__` function, and set the defualt value of `choice` as `None`\n",
    "- Add an object class attriute called `choice_list = ['rock', 'paper', 'scissor']`\n",
    "- In the `Player` class, add the following methods:\n",
    "    - `get_player_input()`: ask the user to input a choice (rock, paper, scissor) using `input()` function\n",
    "        - use `try, raise ValueError, except` to make sure the user provides a valid input. Print suitable information if an exception occurs\n",
    "        \n",
    "    - `get_computer_input()`: generate the computer's input randomly, you may use the `random` package by `import random`\n",
    "    - `compare_result()`: given the input from the user and the computer, make a decision of who wins\n",
    "        - rules: `paper > rock, scissor > paper, rock > scissor`\n",
    "        - print suitable information, like: \n",
    "                \n",
    "                `Computer: rock, Player: paper. Player wins!` or `Computer: paper, Player: paper. Draw!`\n",
    "              \n",
    "        - return: 1 (player wins), 0 (a draw), -1 (computer wins)\n",
    "    - `enter_check_num_game()`: ask how many rounds of game in total does the user want to play.\n",
    "        - use the `input()` function to ask user how many times he/she wants to play\n",
    "        - use use `try, raise ValueError, except` to make sure the user provides a positive odd number.\n",
    "        - even number is not accepted, negative or 0 is not accepted either.\n",
    "    - `run_game()`: to run the game:\n",
    "        - use the `enter_check_num_game()` to get how many total rounds of games will be played\n",
    "        - calculate how many of rounds player/computer needs to win. For instance, if the user input is 7, then each party needs at least wins 4 times to win the game\n",
    "        - run the game by combining previous methods\n",
    "        - for each round of game, you can decide to print suitable information. An example looks like:\n",
    "                \n",
    "                ========== The 1st round ==========\n",
    "                User's input is valid!\n",
    "                Player: rock, Computer: scissor, Player wins!\n",
    "           You do not need to print repeated information if some information has been printed in previous methods.\n",
    "           \n",
    "        - The game ends when either of two sides win at leasts the required rounds of game. Some conclusion needs to be printed, such as:\n",
    "        \n",
    "                `In total, Computer wins 4 times, Player wins 2 times. Computer wins the game.`"
   ]
  },
  {
   "cell_type": "code",
   "execution_count": 27,
   "id": "abcece77",
   "metadata": {},
   "outputs": [],
   "source": [
    "import random\n",
    "\n",
    "class Player:\n",
    "    choice_list = ['rock', 'paper', 'scissors']\n",
    "    def __init__(self, choice = None):\n",
    "        self.choice = choice\n",
    "    \n",
    "    def get_player_input(self):\n",
    "        while True:\n",
    "            try:\n",
    "                player_choice = input(f'Make a selection from {self.choice_list}: ')\n",
    "                if player_choice not in self.choice_list:\n",
    "                    raise ValueError(f'Please choose from one of these: {self.choice_list}')\n",
    "                else:\n",
    "                    self.choice = player_choice\n",
    "                    print()\n",
    "                    print(f'You have chosen {self.choice}')\n",
    "                    return self.choice\n",
    "            except ValueError as VE:\n",
    "                print()\n",
    "                print(VE)\n",
    "                \n",
    "    def get_computer_input(self):\n",
    "        self.choice = random.choice(Player.choice_list)\n",
    "    \n",
    "    def compare_result(self, computer_choice):\n",
    "        self.computer_choice = computer_choice\n",
    "        if self.computer_choice == 'paper' and self.choice == 'rock':\n",
    "            print()\n",
    "            print(f'You chose: {self.choice}, Computer chose: {self.computer_choice} ===========  COMPUTER WINS 🥲')\n",
    "            return -1\n",
    "        elif self.computer_choice == 'rock' and self.choice == 'scissors':\n",
    "            print()\n",
    "            print(f'You chose: {self.choice}, Computer chose: {self.computer_choice} ===========  COMPUTER WINS 🥲')\n",
    "            return -1\n",
    "        elif self.computer_choice == 'scissors' and self.choice == 'paper':\n",
    "            print()\n",
    "            print(f'You chose: {self.choice}, Computer chose: {self.computer_choice} ===========  COMPUTER WINS 🥲')\n",
    "            return -1\n",
    "        elif self.computer_choice == self.choice:\n",
    "            print()\n",
    "            print(f'You chose: {self.choice}, Computer chose: {self.computer_choice} ===========  DRAW! 😒')\n",
    "            return 0\n",
    "        else:\n",
    "            print()\n",
    "            print(f'You chose: {self.choice}, Computer chose: {self.computer_choice} ===========  YOU WIN🎊🎊🎊!!!!')\n",
    "            return 1\n",
    "                \n",
    "    def enter_check_num_game(self):\n",
    "        while True:\n",
    "            try:\n",
    "                total_games = int(input('How many games, in total, do you want to play?: '))\n",
    "                Winner_definition = (total_games//2) + 1\n",
    "                if total_games <= 0 or total_games % 2 == 0:\n",
    "                    print()\n",
    "                    raise ValueError('Please enter a positive odd number!')\n",
    "                    \n",
    "                elif total_games == 1:\n",
    "                    print()\n",
    "                    print(f'A winner will be decided after this round')\n",
    "                    print()\n",
    "                    return total_games\n",
    "                \n",
    "                else:\n",
    "                    print()\n",
    "                    print(f'A winner will be decided if a player wins at least {str(Winner_definition)} times!')\n",
    "                    print()\n",
    "                    return total_games\n",
    "\n",
    "            except ValueError as VE:\n",
    "                print()\n",
    "                print(VE)\n",
    "    \n",
    "    def run_game(self):\n",
    "        total_games = self.enter_check_num_game()\n",
    "        Winner_definition = (total_games//2)+1\n",
    "        Player_wins = 0\n",
    "        Computer_wins = 0\n",
    "        \n",
    "        for value in range(total_games):\n",
    "            print('==================================== Round',value+1,' ====================================')\n",
    "            player = Player()\n",
    "            player.get_player_input()\n",
    "            computer = Player()\n",
    "            computer.get_computer_input()\n",
    "            result = player.compare_result(computer.choice)\n",
    "\n",
    "            if result == 1:\n",
    "                Player_wins += 1\n",
    "            elif result == -1:\n",
    "                Computer_wins += 1\n",
    "            else:\n",
    "                print(f\"Nobody wins this round 😔\")\n",
    "            \n",
    "            \n",
    "            if Player_wins == Winner_definition or Computer_wins == Winner_definition:\n",
    "                break\n",
    "            \n",
    "            value += 1\n",
    "            \n",
    "        print()\n",
    "        print(f'You won {Player_wins} times and Computer won {Computer_wins} times')\n",
    "\n",
    "        if Player_wins > Computer_wins:\n",
    "            print()\n",
    "            print('YOU WIN !!!!🎊🎊🎊🎊🎊')\n",
    "        elif Player_wins < Computer_wins:\n",
    "            print()\n",
    "            print(f'COMPUTER WINS!😩')\n",
    "        else:\n",
    "            print()\n",
    "            print('TRY AGAIN? 👀')"
   ]
  },
  {
   "cell_type": "code",
   "execution_count": 28,
   "id": "1c9bfc9a",
   "metadata": {},
   "outputs": [],
   "source": [
    "p1 = Player()"
   ]
  },
  {
   "cell_type": "code",
   "execution_count": 29,
   "id": "2a6314b0",
   "metadata": {},
   "outputs": [
    {
     "name": "stdout",
     "output_type": "stream",
     "text": [
      "How many games, in total, do you want to play?: 3\n",
      "\n",
      "A winner will be decided if a player wins at least 2 times!\n",
      "\n",
      "==================================== Round 1  ====================================\n",
      "Make a selection from ['rock', 'paper', 'scissors']: rock\n",
      "\n",
      "You have chosen rock\n",
      "\n",
      "You chose: rock, Computer chose: rock ===========  DRAW! 😒\n",
      "Nobody wins this round 😔\n",
      "==================================== Round 2  ====================================\n",
      "Make a selection from ['rock', 'paper', 'scissors']: rock\n",
      "\n",
      "You have chosen rock\n",
      "\n",
      "You chose: rock, Computer chose: scissors ===========  YOU WIN🎊🎊🎊!!!!\n",
      "==================================== Round 3  ====================================\n",
      "Make a selection from ['rock', 'paper', 'scissors']: rock\n",
      "\n",
      "You have chosen rock\n",
      "\n",
      "You chose: rock, Computer chose: rock ===========  DRAW! 😒\n",
      "Nobody wins this round 😔\n",
      "\n",
      "You won 1 times and Computer won 0 times\n",
      "\n",
      "YOU WIN !!!!🎊🎊🎊🎊🎊\n"
     ]
    }
   ],
   "source": [
    "p1.run_game()"
   ]
  },
  {
   "cell_type": "code",
   "execution_count": 30,
   "id": "496a7775",
   "metadata": {},
   "outputs": [],
   "source": [
    "p2 = Player()"
   ]
  },
  {
   "cell_type": "code",
   "execution_count": 31,
   "id": "9e11ca19",
   "metadata": {},
   "outputs": [
    {
     "name": "stdout",
     "output_type": "stream",
     "text": [
      "How many games, in total, do you want to play?: 5\n",
      "\n",
      "A winner will be decided if a player wins at least 3 times!\n",
      "\n",
      "==================================== Round 1  ====================================\n",
      "Make a selection from ['rock', 'paper', 'scissors']: paper\n",
      "\n",
      "You have chosen paper\n",
      "\n",
      "You chose: paper, Computer chose: paper ===========  DRAW! 😒\n",
      "Nobody wins this round 😔\n",
      "==================================== Round 2  ====================================\n",
      "Make a selection from ['rock', 'paper', 'scissors']: paper\n",
      "\n",
      "You have chosen paper\n",
      "\n",
      "You chose: paper, Computer chose: scissors ===========  COMPUTER WINS 🥲\n",
      "==================================== Round 3  ====================================\n",
      "Make a selection from ['rock', 'paper', 'scissors']: paper\n",
      "\n",
      "You have chosen paper\n",
      "\n",
      "You chose: paper, Computer chose: rock ===========  YOU WIN🎊🎊🎊!!!!\n",
      "==================================== Round 4  ====================================\n",
      "Make a selection from ['rock', 'paper', 'scissors']: paper\n",
      "\n",
      "You have chosen paper\n",
      "\n",
      "You chose: paper, Computer chose: scissors ===========  COMPUTER WINS 🥲\n",
      "==================================== Round 5  ====================================\n",
      "Make a selection from ['rock', 'paper', 'scissors']: rock\n",
      "\n",
      "You have chosen rock\n",
      "\n",
      "You chose: rock, Computer chose: scissors ===========  YOU WIN🎊🎊🎊!!!!\n",
      "\n",
      "You won 2 times and Computer won 2 times\n",
      "\n",
      "TRY AGAIN? 👀\n"
     ]
    }
   ],
   "source": [
    "p2.run_game()"
   ]
  },
  {
   "cell_type": "code",
   "execution_count": 32,
   "id": "f49af4a6",
   "metadata": {},
   "outputs": [],
   "source": [
    "p3 = Player()"
   ]
  },
  {
   "cell_type": "code",
   "execution_count": 33,
   "id": "f6a47d87",
   "metadata": {},
   "outputs": [
    {
     "name": "stdout",
     "output_type": "stream",
     "text": [
      "How many games, in total, do you want to play?: yellow\n",
      "\n",
      "invalid literal for int() with base 10: 'yellow'\n",
      "How many games, in total, do you want to play?: rock\n",
      "\n",
      "invalid literal for int() with base 10: 'rock'\n",
      "How many games, in total, do you want to play?: 9\n",
      "\n",
      "A winner will be decided if a player wins at least 5 times!\n",
      "\n",
      "==================================== Round 1  ====================================\n",
      "Make a selection from ['rock', 'paper', 'scissors']: rock\n",
      "\n",
      "You have chosen rock\n",
      "\n",
      "You chose: rock, Computer chose: scissors ===========  YOU WIN🎊🎊🎊!!!!\n",
      "==================================== Round 2  ====================================\n",
      "Make a selection from ['rock', 'paper', 'scissors']: rock\n",
      "\n",
      "You have chosen rock\n",
      "\n",
      "You chose: rock, Computer chose: scissors ===========  YOU WIN🎊🎊🎊!!!!\n",
      "==================================== Round 3  ====================================\n",
      "Make a selection from ['rock', 'paper', 'scissors']: rock\n",
      "\n",
      "You have chosen rock\n",
      "\n",
      "You chose: rock, Computer chose: paper ===========  COMPUTER WINS 🥲\n",
      "==================================== Round 4  ====================================\n",
      "Make a selection from ['rock', 'paper', 'scissors']: rock\n",
      "\n",
      "You have chosen rock\n",
      "\n",
      "You chose: rock, Computer chose: paper ===========  COMPUTER WINS 🥲\n",
      "==================================== Round 5  ====================================\n",
      "Make a selection from ['rock', 'paper', 'scissors']: paper\n",
      "\n",
      "You have chosen paper\n",
      "\n",
      "You chose: paper, Computer chose: paper ===========  DRAW! 😒\n",
      "Nobody wins this round 😔\n",
      "==================================== Round 6  ====================================\n",
      "Make a selection from ['rock', 'paper', 'scissors']: paper\n",
      "\n",
      "You have chosen paper\n",
      "\n",
      "You chose: paper, Computer chose: scissors ===========  COMPUTER WINS 🥲\n",
      "==================================== Round 7  ====================================\n",
      "Make a selection from ['rock', 'paper', 'scissors']: scissors\n",
      "\n",
      "You have chosen scissors\n",
      "\n",
      "You chose: scissors, Computer chose: paper ===========  YOU WIN🎊🎊🎊!!!!\n",
      "==================================== Round 8  ====================================\n",
      "Make a selection from ['rock', 'paper', 'scissors']: scissors\n",
      "\n",
      "You have chosen scissors\n",
      "\n",
      "You chose: scissors, Computer chose: scissors ===========  DRAW! 😒\n",
      "Nobody wins this round 😔\n",
      "==================================== Round 9  ====================================\n",
      "Make a selection from ['rock', 'paper', 'scissors']: paper\n",
      "\n",
      "You have chosen paper\n",
      "\n",
      "You chose: paper, Computer chose: paper ===========  DRAW! 😒\n",
      "Nobody wins this round 😔\n",
      "\n",
      "You won 3 times and Computer won 3 times\n",
      "\n",
      "TRY AGAIN? 👀\n"
     ]
    }
   ],
   "source": [
    "p3.run_game()"
   ]
  }
 ],
 "metadata": {
  "kernelspec": {
   "display_name": "Python 3 (ipykernel)",
   "language": "python",
   "name": "python3"
  },
  "language_info": {
   "codemirror_mode": {
    "name": "ipython",
    "version": 3
   },
   "file_extension": ".py",
   "mimetype": "text/x-python",
   "name": "python",
   "nbconvert_exporter": "python",
   "pygments_lexer": "ipython3",
   "version": "3.11.4"
  }
 },
 "nbformat": 4,
 "nbformat_minor": 5
}
